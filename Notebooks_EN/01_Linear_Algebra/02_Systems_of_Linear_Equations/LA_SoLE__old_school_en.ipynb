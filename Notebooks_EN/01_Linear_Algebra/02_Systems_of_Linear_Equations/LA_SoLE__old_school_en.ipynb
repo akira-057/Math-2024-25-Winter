{
  "cells": [
    {
      "cell_type": "markdown",
      "metadata": {
        "id": "qXrlzOpKQVmt"
      },
      "source": [
        "# School Method for Solving Systems of Linear Equations"
      ]
    },
    {
      "cell_type": "code",
      "execution_count": 1,
      "metadata": {
        "id": "BFeoyDcAQVmv"
      },
      "outputs": [],
      "source": [
        "import sympy as sp\n",
        "from sympy import symbols, Eq, expand, solve\n",
        "\n",
        "class EnhancedEq(Eq):\n",
        "    def __add__(self, other):\n",
        "        return EnhancedEq(self.lhs + other.lhs, self.rhs + other.rhs)\n",
        "\n",
        "    def __sub__(self, other):\n",
        "        return EnhancedEq(self.lhs - other.lhs, self.rhs - other.rhs)\n",
        "\n",
        "    def __mul__(self, scalar):\n",
        "        return EnhancedEq(scalar * self.lhs, scalar * self.rhs)\n",
        "\n",
        "    def __rmul__(self, scalar):\n",
        "        return self.__mul__(scalar)\n",
        "\n",
        "    def simplify(self):\n",
        "        return EnhancedEq(expand(self.lhs), expand(self.rhs))\n",
        "\n",
        "    def substitute(self, *args, **kwargs):\n",
        "        return EnhancedEq(self.lhs.subs(*args, **kwargs), self.rhs.subs(*args, **kwargs))\n",
        "\n",
        "    def solve_for(self, symbol):\n",
        "        return solve(self, symbol)\n",
        "\n",
        "# Example usage:\n",
        "x, y = symbols('x y')\n",
        "\n",
        "# Define equations\n",
        "eq1 = EnhancedEq(2*x + y, 5)\n",
        "eq2 = EnhancedEq(x - y, 1)"
      ]
    },
    {
      "cell_type": "code",
      "execution_count": 2,
      "metadata": {
        "id": "ZA5bUBAYQVmw",
        "outputId": "a66a3e74-7791-43ce-d105-3c4fbee1d27f",
        "colab": {
          "base_uri": "https://localhost:8080/",
          "height": 56
        }
      },
      "outputs": [
        {
          "output_type": "stream",
          "name": "stdout",
          "text": [
            "First equation:\n"
          ]
        },
        {
          "output_type": "execute_result",
          "data": {
            "text/plain": [
              "Eq(2*x + y, 5)"
            ],
            "text/latex": "$\\displaystyle 2 x + y = 5$"
          },
          "metadata": {},
          "execution_count": 2
        }
      ],
      "source": [
        "print(\"First equation:\")\n",
        "eq1"
      ]
    },
    {
      "cell_type": "code",
      "execution_count": 3,
      "metadata": {
        "id": "SKbS62gCQVmx",
        "outputId": "60b63bf9-7ab2-49a7-f73f-57787c823c71",
        "colab": {
          "base_uri": "https://localhost:8080/",
          "height": 56
        }
      },
      "outputs": [
        {
          "output_type": "stream",
          "name": "stdout",
          "text": [
            "Second equation:\n"
          ]
        },
        {
          "output_type": "execute_result",
          "data": {
            "text/plain": [
              "Eq(x - y, 1)"
            ],
            "text/latex": "$\\displaystyle x - y = 1$"
          },
          "metadata": {},
          "execution_count": 3
        }
      ],
      "source": [
        "print(\"Second equation:\")\n",
        "eq2"
      ]
    },
    {
      "cell_type": "code",
      "execution_count": 4,
      "metadata": {
        "id": "1_qa97U6QVmy",
        "outputId": "7be6fc72-aeef-4d74-ad1f-7d8ff310091a",
        "colab": {
          "base_uri": "https://localhost:8080/",
          "height": 39
        }
      },
      "outputs": [
        {
          "output_type": "execute_result",
          "data": {
            "text/plain": [
              "Eq(3*x, 6)"
            ],
            "text/latex": "$\\displaystyle 3 x = 6$"
          },
          "metadata": {},
          "execution_count": 4
        }
      ],
      "source": [
        "# Add the equations\n",
        "eq3 = eq1 + eq2\n",
        "eq3"
      ]
    },
    {
      "cell_type": "code",
      "execution_count": 5,
      "metadata": {
        "id": "SZgHx10gQVmy",
        "outputId": "d1fe5f91-52f2-4647-93d7-d83c15142014",
        "colab": {
          "base_uri": "https://localhost:8080/",
          "height": 37
        }
      },
      "outputs": [
        {
          "output_type": "execute_result",
          "data": {
            "text/plain": [
              "2"
            ],
            "text/latex": "$\\displaystyle 2$"
          },
          "metadata": {},
          "execution_count": 5
        }
      ],
      "source": [
        "# We have an equation with one unknown, so we can solve it\n",
        "sol_x = eq3.solve_for(x)[0]\n",
        "sol_x"
      ]
    },
    {
      "cell_type": "code",
      "execution_count": 6,
      "metadata": {
        "id": "DKEwz40tQVmy",
        "outputId": "a7b4271f-1270-44e8-e6b6-e92a9190f626",
        "colab": {
          "base_uri": "https://localhost:8080/",
          "height": 39
        }
      },
      "outputs": [
        {
          "output_type": "execute_result",
          "data": {
            "text/plain": [
              "Eq(2 - y, 1)"
            ],
            "text/latex": "$\\displaystyle 2 - y = 1$"
          },
          "metadata": {},
          "execution_count": 6
        }
      ],
      "source": [
        "# Substitute the solution into equation 2\n",
        "eq2 = eq2.substitute(x, sol_x)\n",
        "eq2"
      ]
    },
    {
      "cell_type": "code",
      "execution_count": 7,
      "metadata": {
        "id": "xTHGNoDLQVmy",
        "outputId": "e284b2dd-8944-469a-dfef-791dd75d177b",
        "colab": {
          "base_uri": "https://localhost:8080/",
          "height": 37
        }
      },
      "outputs": [
        {
          "output_type": "execute_result",
          "data": {
            "text/plain": [
              "1"
            ],
            "text/latex": "$\\displaystyle 1$"
          },
          "metadata": {},
          "execution_count": 7
        }
      ],
      "source": [
        "# We get an equation with one unknown, so we can solve it\n",
        "eq2.solve_for(y)[0]"
      ]
    },
    {
      "cell_type": "code",
      "execution_count": 8,
      "metadata": {
        "id": "h9nvGV3lQVmz",
        "outputId": "7031429b-034a-4662-9eb9-03ef86d76bcd",
        "colab": {
          "base_uri": "https://localhost:8080/"
        }
      },
      "outputs": [
        {
          "output_type": "execute_result",
          "data": {
            "text/plain": [
              "{x: 2, y: 1}"
            ]
          },
          "metadata": {},
          "execution_count": 8
        }
      ],
      "source": [
        "# Thus x=2, y=1\n",
        "# Verify with sympy\n",
        "sp.solve([eq1, eq2])"
      ]
    },
    {
      "cell_type": "markdown",
      "metadata": {
        "id": "7m9-jKFpQVmz"
      },
      "source": [
        "---\n",
        "\n",
        "### Exercises for Students\n",
        "\n",
        "Solve the following systems of equations similarly to the example above:\n",
        "\n",
        "* $3x-2y=5, \\quad 2x+3y=7$,\n",
        "* $2x-3y=10, \\quad 4x+5y=20$,\n",
        "* $2x - y + z = 3, \\quad x + 2y - z = 1, \\quad 3x - y + 2z = 11$.\n",
        "* $2x-3y+4z+2t=2, \\quad 3x+2y-5z+3t=3, \\quad 4x-3y+2z-5t=4, \\quad 5x+4y-3z+2t=5$."
      ]
    },
    {
      "cell_type": "code",
      "source": [
        "print(\"First equation\")\n",
        "x, y = symbols('x y')\n",
        "eq1 = EnhancedEq(3*x - 2*y, 5)\n",
        "eq2 = EnhancedEq(x + y, 1)"
      ],
      "metadata": {
        "id": "v7cxgFh8QXR-",
        "outputId": "eb26f1bb-8ed2-4497-cc99-bf007a39260e",
        "colab": {
          "base_uri": "https://localhost:8080/"
        }
      },
      "execution_count": 46,
      "outputs": [
        {
          "output_type": "stream",
          "name": "stdout",
          "text": [
            "First equation\n"
          ]
        }
      ]
    },
    {
      "cell_type": "code",
      "source": [
        "eq1"
      ],
      "metadata": {
        "colab": {
          "base_uri": "https://localhost:8080/",
          "height": 39
        },
        "id": "JI6U_9FWSipW",
        "outputId": "016862ef-9f32-4552-ff0a-70fd21002d33"
      },
      "execution_count": 26,
      "outputs": [
        {
          "output_type": "execute_result",
          "data": {
            "text/plain": [
              "Eq(3*x - 2*y, 5)"
            ],
            "text/latex": "$\\displaystyle 3 x - 2 y = 5$"
          },
          "metadata": {},
          "execution_count": 26
        }
      ]
    },
    {
      "cell_type": "code",
      "source": [
        "eq2"
      ],
      "metadata": {
        "colab": {
          "base_uri": "https://localhost:8080/",
          "height": 39
        },
        "id": "KvuWMEexSlNV",
        "outputId": "d48154e3-4e71-48ca-e5d7-03182da2db6e"
      },
      "execution_count": 28,
      "outputs": [
        {
          "output_type": "execute_result",
          "data": {
            "text/plain": [
              "Eq(x + y, 1)"
            ],
            "text/latex": "$\\displaystyle x + y = 1$"
          },
          "metadata": {},
          "execution_count": 28
        }
      ]
    },
    {
      "cell_type": "code",
      "source": [
        "eq3 = eq1 + eq2\n",
        "eq3"
      ],
      "metadata": {
        "colab": {
          "base_uri": "https://localhost:8080/",
          "height": 39
        },
        "id": "whZZ-jn6SpNx",
        "outputId": "c4e0ec71-252a-4710-80c5-5650b81a8862"
      },
      "execution_count": 12,
      "outputs": [
        {
          "output_type": "execute_result",
          "data": {
            "text/plain": [
              "Eq(4*x - 3*y, 6)"
            ],
            "text/latex": "$\\displaystyle 4 x - 3 y = 6$"
          },
          "metadata": {},
          "execution_count": 12
        }
      ]
    },
    {
      "cell_type": "code",
      "source": [
        "sol_x = eq3.solve_for(x)[0]\n",
        "sol_x"
      ],
      "metadata": {
        "colab": {
          "base_uri": "https://localhost:8080/",
          "height": 51
        },
        "id": "LUz19tMxSrtC",
        "outputId": "35baac67-31ad-498f-88e4-adff5fe74096"
      },
      "execution_count": 13,
      "outputs": [
        {
          "output_type": "execute_result",
          "data": {
            "text/plain": [
              "3*y/4 + 3/2"
            ],
            "text/latex": "$\\displaystyle \\frac{3 y}{4} + \\frac{3}{2}$"
          },
          "metadata": {},
          "execution_count": 13
        }
      ]
    },
    {
      "cell_type": "code",
      "source": [
        "eq2.solve_for(y)[0]"
      ],
      "metadata": {
        "colab": {
          "base_uri": "https://localhost:8080/",
          "height": 39
        },
        "id": "ndKFP-YJS5Ra",
        "outputId": "1f425974-1c22-445f-f9b7-45e355055895"
      },
      "execution_count": 14,
      "outputs": [
        {
          "output_type": "execute_result",
          "data": {
            "text/plain": [
              "x - 1"
            ],
            "text/latex": "$\\displaystyle x - 1$"
          },
          "metadata": {},
          "execution_count": 14
        }
      ]
    },
    {
      "cell_type": "code",
      "source": [
        "sp.solve([eq1, eq2])"
      ],
      "metadata": {
        "colab": {
          "base_uri": "https://localhost:8080/"
        },
        "id": "Fr40qNiWTG9W",
        "outputId": "d1846772-acbb-4c26-e7f2-e3851dddb0fe"
      },
      "execution_count": 15,
      "outputs": [
        {
          "output_type": "execute_result",
          "data": {
            "text/plain": [
              "{x: 3, y: 2}"
            ]
          },
          "metadata": {},
          "execution_count": 15
        }
      ]
    },
    {
      "cell_type": "code",
      "source": [
        "print(\"Second equation\")\n",
        "x, y = symbols('x y')\n",
        "eq1 = EnhancedEq(2*x + 3*y, 7)\n",
        "eq2 = EnhancedEq(x - y, 1)"
      ],
      "metadata": {
        "id": "lV5jeac_RDvf",
        "outputId": "9a411c4c-547c-45ed-c603-bc5d99a6d268",
        "colab": {
          "base_uri": "https://localhost:8080/"
        }
      },
      "execution_count": 68,
      "outputs": [
        {
          "output_type": "stream",
          "name": "stdout",
          "text": [
            "Second equation\n"
          ]
        }
      ]
    },
    {
      "cell_type": "code",
      "source": [
        "eq3 = eq1 + eq2\n",
        "eq3"
      ],
      "metadata": {
        "id": "d1_i5uwfRYT0",
        "outputId": "a2736a91-1d18-4fb8-eede-e0b4c3e97dca",
        "colab": {
          "base_uri": "https://localhost:8080/",
          "height": 39
        }
      },
      "execution_count": 69,
      "outputs": [
        {
          "output_type": "execute_result",
          "data": {
            "text/plain": [
              "Eq(3*x + 2*y, 8)"
            ],
            "text/latex": "$\\displaystyle 3 x + 2 y = 8$"
          },
          "metadata": {},
          "execution_count": 69
        }
      ]
    },
    {
      "cell_type": "code",
      "source": [
        "sol_x = eq3.solve_for(x)[0]\n",
        "sol_x"
      ],
      "metadata": {
        "id": "BPWGVhFXSFOY",
        "outputId": "cd9784be-28af-4713-e861-a57513b90e86",
        "colab": {
          "base_uri": "https://localhost:8080/",
          "height": 51
        }
      },
      "execution_count": 70,
      "outputs": [
        {
          "output_type": "execute_result",
          "data": {
            "text/plain": [
              "8/3 - 2*y/3"
            ],
            "text/latex": "$\\displaystyle \\frac{8}{3} - \\frac{2 y}{3}$"
          },
          "metadata": {},
          "execution_count": 70
        }
      ]
    },
    {
      "cell_type": "code",
      "source": [
        "eq2 = eq2.substitute(x, sol_x)\n",
        "eq2"
      ],
      "metadata": {
        "id": "xXE2sJKQSIgm",
        "outputId": "c6642f43-0a66-45df-9a5e-06e419ad691a",
        "colab": {
          "base_uri": "https://localhost:8080/",
          "height": 51
        }
      },
      "execution_count": 71,
      "outputs": [
        {
          "output_type": "execute_result",
          "data": {
            "text/plain": [
              "Eq(8/3 - 5*y/3, 1)"
            ],
            "text/latex": "$\\displaystyle \\frac{8}{3} - \\frac{5 y}{3} = 1$"
          },
          "metadata": {},
          "execution_count": 71
        }
      ]
    },
    {
      "cell_type": "code",
      "source": [
        "eq2.solve_for(y)[0]"
      ],
      "metadata": {
        "id": "rlMIXv5ASLZb",
        "outputId": "70b006f4-7c65-47f3-d126-670bcc552883",
        "colab": {
          "base_uri": "https://localhost:8080/",
          "height": 37
        }
      },
      "execution_count": 72,
      "outputs": [
        {
          "output_type": "execute_result",
          "data": {
            "text/plain": [
              "1"
            ],
            "text/latex": "$\\displaystyle 1$"
          },
          "metadata": {},
          "execution_count": 72
        }
      ]
    },
    {
      "cell_type": "code",
      "source": [
        "sp.solve([eq1, eq2])"
      ],
      "metadata": {
        "id": "Om-eHsHZSQDf",
        "outputId": "75ecaa1e-aa2b-4e39-91da-c8a1b2bfafb1",
        "colab": {
          "base_uri": "https://localhost:8080/"
        }
      },
      "execution_count": 73,
      "outputs": [
        {
          "output_type": "execute_result",
          "data": {
            "text/plain": [
              "{x: 2, y: 1}"
            ]
          },
          "metadata": {},
          "execution_count": 73
        }
      ]
    },
    {
      "cell_type": "code",
      "source": [
        "print(\"Third equation\")\n",
        "x, y = symbols('x y')\n",
        "eq1 = EnhancedEq(2*x - 3*y, 10)\n",
        "eq2 = EnhancedEq(x - y, 1)"
      ],
      "metadata": {
        "id": "pLzXEjCjSxTs",
        "outputId": "d6b5af64-8703-444c-86c6-648766ea774c",
        "colab": {
          "base_uri": "https://localhost:8080/"
        }
      },
      "execution_count": 62,
      "outputs": [
        {
          "output_type": "stream",
          "name": "stdout",
          "text": [
            "Third equation\n"
          ]
        }
      ]
    },
    {
      "cell_type": "code",
      "source": [
        "eq3 = eq1 + eq2\n",
        "eq3"
      ],
      "metadata": {
        "id": "fOkHjqrYTsV7",
        "outputId": "2bfa8e82-1083-4cf0-e7e4-49079c6136df",
        "colab": {
          "base_uri": "https://localhost:8080/",
          "height": 39
        }
      },
      "execution_count": 63,
      "outputs": [
        {
          "output_type": "execute_result",
          "data": {
            "text/plain": [
              "Eq(3*x - 4*y, 11)"
            ],
            "text/latex": "$\\displaystyle 3 x - 4 y = 11$"
          },
          "metadata": {},
          "execution_count": 63
        }
      ]
    },
    {
      "cell_type": "code",
      "source": [
        "sol_x = eq3.solve_for(x)[0]\n",
        "sol_x"
      ],
      "metadata": {
        "id": "ECBitb7BTutc",
        "outputId": "7f7be2c4-3516-47cd-a759-d94284bd0636",
        "colab": {
          "base_uri": "https://localhost:8080/",
          "height": 51
        }
      },
      "execution_count": 64,
      "outputs": [
        {
          "output_type": "execute_result",
          "data": {
            "text/plain": [
              "4*y/3 + 11/3"
            ],
            "text/latex": "$\\displaystyle \\frac{4 y}{3} + \\frac{11}{3}$"
          },
          "metadata": {},
          "execution_count": 64
        }
      ]
    },
    {
      "cell_type": "code",
      "source": [
        "eq2 = eq2.substitute(x, sol_x)\n",
        "eq2"
      ],
      "metadata": {
        "id": "jkYE-Dv9TyHV",
        "outputId": "dc415341-efaa-4887-e4e4-e3f5e4f93eff",
        "colab": {
          "base_uri": "https://localhost:8080/",
          "height": 51
        }
      },
      "execution_count": 65,
      "outputs": [
        {
          "output_type": "execute_result",
          "data": {
            "text/plain": [
              "Eq(y/3 + 11/3, 1)"
            ],
            "text/latex": "$\\displaystyle \\frac{y}{3} + \\frac{11}{3} = 1$"
          },
          "metadata": {},
          "execution_count": 65
        }
      ]
    },
    {
      "cell_type": "code",
      "source": [
        "eq2.solve_for(y)[0]"
      ],
      "metadata": {
        "id": "2oH2IyA_T3nB",
        "outputId": "e1e9ebe6-7f37-4e11-de14-f2f9896ebbbc",
        "colab": {
          "base_uri": "https://localhost:8080/",
          "height": 37
        }
      },
      "execution_count": 66,
      "outputs": [
        {
          "output_type": "execute_result",
          "data": {
            "text/plain": [
              "-8"
            ],
            "text/latex": "$\\displaystyle -8$"
          },
          "metadata": {},
          "execution_count": 66
        }
      ]
    },
    {
      "cell_type": "code",
      "source": [
        "sp.solve([eq1, eq2])"
      ],
      "metadata": {
        "id": "BnIWG6i1T6Is",
        "outputId": "8c642206-5ffa-47ed-eaf8-b4295b6ec8bf",
        "colab": {
          "base_uri": "https://localhost:8080/"
        }
      },
      "execution_count": 67,
      "outputs": [
        {
          "output_type": "execute_result",
          "data": {
            "text/plain": [
              "{x: -7, y: -8}"
            ]
          },
          "metadata": {},
          "execution_count": 67
        }
      ]
    },
    {
      "cell_type": "code",
      "source": [
        "print(\"Fourth equation\")\n",
        "x, y = symbols('x y')\n",
        "eq1 = EnhancedEq(4*x + 5*y, 20)\n",
        "eq2 = EnhancedEq(x - y, 1)"
      ],
      "metadata": {
        "id": "gcWeGT71UF0v",
        "outputId": "649050a6-c62e-4554-8176-0d6c5fc1a8c1",
        "colab": {
          "base_uri": "https://localhost:8080/"
        }
      },
      "execution_count": 74,
      "outputs": [
        {
          "output_type": "stream",
          "name": "stdout",
          "text": [
            "Fourth equation\n"
          ]
        }
      ]
    },
    {
      "cell_type": "code",
      "source": [
        "eq3 = eq1 + eq2\n",
        "eq3"
      ],
      "metadata": {
        "id": "wu44NlXiUa2J",
        "outputId": "64cde869-a686-4cab-ef5e-b341fe176827",
        "colab": {
          "base_uri": "https://localhost:8080/",
          "height": 39
        }
      },
      "execution_count": 75,
      "outputs": [
        {
          "output_type": "execute_result",
          "data": {
            "text/plain": [
              "Eq(5*x + 4*y, 21)"
            ],
            "text/latex": "$\\displaystyle 5 x + 4 y = 21$"
          },
          "metadata": {},
          "execution_count": 75
        }
      ]
    },
    {
      "cell_type": "code",
      "source": [
        "sol_x = eq3.solve_for(x)[0]\n",
        "sol_x"
      ],
      "metadata": {
        "id": "5g0TODHSUb36",
        "outputId": "83da5fa1-de1c-41af-b502-73055a0a1ee0",
        "colab": {
          "base_uri": "https://localhost:8080/",
          "height": 51
        }
      },
      "execution_count": 76,
      "outputs": [
        {
          "output_type": "execute_result",
          "data": {
            "text/plain": [
              "21/5 - 4*y/5"
            ],
            "text/latex": "$\\displaystyle \\frac{21}{5} - \\frac{4 y}{5}$"
          },
          "metadata": {},
          "execution_count": 76
        }
      ]
    },
    {
      "cell_type": "code",
      "source": [
        "eq2 = eq2.substitute(x, sol_x)\n",
        "eq2"
      ],
      "metadata": {
        "id": "ejZdQGeHUlw2",
        "outputId": "b7e17743-849c-4dc3-f991-b47498a7bdcd",
        "colab": {
          "base_uri": "https://localhost:8080/",
          "height": 51
        }
      },
      "execution_count": 77,
      "outputs": [
        {
          "output_type": "execute_result",
          "data": {
            "text/plain": [
              "Eq(21/5 - 9*y/5, 1)"
            ],
            "text/latex": "$\\displaystyle \\frac{21}{5} - \\frac{9 y}{5} = 1$"
          },
          "metadata": {},
          "execution_count": 77
        }
      ]
    },
    {
      "cell_type": "code",
      "source": [
        "eq2.solve_for(y)[0]"
      ],
      "metadata": {
        "id": "nRWj0my1UsPw",
        "outputId": "9ad76028-fb65-4298-804e-ae81e8982e0e",
        "colab": {
          "base_uri": "https://localhost:8080/",
          "height": 51
        }
      },
      "execution_count": 78,
      "outputs": [
        {
          "output_type": "execute_result",
          "data": {
            "text/plain": [
              "16/9"
            ],
            "text/latex": "$\\displaystyle \\frac{16}{9}$"
          },
          "metadata": {},
          "execution_count": 78
        }
      ]
    },
    {
      "cell_type": "code",
      "source": [
        "sp.solve([eq1, eq2])"
      ],
      "metadata": {
        "id": "kZEVJJMHU2PE",
        "outputId": "ab6bcbb6-130f-4f0c-de3c-49a13997872b",
        "colab": {
          "base_uri": "https://localhost:8080/"
        }
      },
      "execution_count": 79,
      "outputs": [
        {
          "output_type": "execute_result",
          "data": {
            "text/plain": [
              "{x: 25/9, y: 16/9}"
            ]
          },
          "metadata": {},
          "execution_count": 79
        }
      ]
    }
  ],
  "metadata": {
    "kernelspec": {
      "display_name": "Python 3",
      "language": "python",
      "name": "python3"
    },
    "language_info": {
      "codemirror_mode": {
        "name": "ipython",
        "version": 3
      },
      "file_extension": ".py",
      "mimetype": "text/x-python",
      "name": "python",
      "nbconvert_exporter": "python",
      "pygments_lexer": "ipython3",
      "version": "3.11.9"
    },
    "colab": {
      "provenance": []
    }
  },
  "nbformat": 4,
  "nbformat_minor": 0
}