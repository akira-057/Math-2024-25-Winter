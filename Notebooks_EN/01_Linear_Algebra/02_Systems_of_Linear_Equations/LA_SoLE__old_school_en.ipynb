{
  "cells": [
    {
      "cell_type": "markdown",
      "metadata": {
        "id": "qXrlzOpKQVmt"
      },
      "source": [
        "# School Method for Solving Systems of Linear Equations"
      ]
    },
    {
      "cell_type": "code",
      "execution_count": 3,
      "metadata": {
        "id": "BFeoyDcAQVmv"
      },
      "outputs": [],
      "source": [
        "import sympy as sp\n",
        "from sympy import symbols, Eq, expand, solve\n",
        "\n",
        "class EnhancedEq(Eq):\n",
        "    def __add__(self, other):\n",
        "        return EnhancedEq(self.lhs + other.lhs, self.rhs + other.rhs)\n",
        "\n",
        "    def __sub__(self, other):\n",
        "        return EnhancedEq(self.lhs - other.lhs, self.rhs - other.rhs)\n",
        "\n",
        "    def __mul__(self, scalar):\n",
        "        return EnhancedEq(scalar * self.lhs, scalar * self.rhs)\n",
        "\n",
        "    def __rmul__(self, scalar):\n",
        "        return self.__mul__(scalar)\n",
        "\n",
        "    def simplify(self):\n",
        "        return EnhancedEq(expand(self.lhs), expand(self.rhs))\n",
        "\n",
        "    def substitute(self, *args, **kwargs):\n",
        "        return EnhancedEq(self.lhs.subs(*args, **kwargs), self.rhs.subs(*args, **kwargs))\n",
        "\n",
        "    def solve_for(self, symbol):\n",
        "        return solve(self, symbol)\n",
        "\n",
        "# Example usage:\n",
        "x, y = symbols('x y')\n",
        "\n",
        "# Define equations\n",
        "eq1 = EnhancedEq(2*x + y, 5)\n",
        "eq2 = EnhancedEq(x - y, 1)"
      ]
    },
    {
      "cell_type": "code",
      "execution_count": null,
      "metadata": {
        "id": "ZA5bUBAYQVmw",
        "outputId": "97759f74-9ac6-4945-a7fb-f0805b72eea6"
      },
      "outputs": [
        {
          "name": "stdout",
          "output_type": "stream",
          "text": [
            "First equation:\n"
          ]
        },
        {
          "data": {
            "text/latex": [
              "$\\displaystyle 2 x + y = 5$"
            ],
            "text/plain": [
              "Eq(2*x + y, 5)"
            ]
          },
          "execution_count": 2,
          "metadata": {},
          "output_type": "execute_result"
        }
      ],
      "source": [
        "print(\"First equation:\")\n",
        "eq1"
      ]
    },
    {
      "cell_type": "code",
      "execution_count": null,
      "metadata": {
        "id": "SKbS62gCQVmx",
        "outputId": "4c8a0dd1-6944-4037-955e-9af6551c1867"
      },
      "outputs": [
        {
          "name": "stdout",
          "output_type": "stream",
          "text": [
            "Second equation:\n"
          ]
        },
        {
          "data": {
            "text/latex": [
              "$\\displaystyle x - y = 1$"
            ],
            "text/plain": [
              "Eq(x - y, 1)"
            ]
          },
          "execution_count": 3,
          "metadata": {},
          "output_type": "execute_result"
        }
      ],
      "source": [
        "print(\"Second equation:\")\n",
        "eq2"
      ]
    },
    {
      "cell_type": "code",
      "execution_count": null,
      "metadata": {
        "id": "1_qa97U6QVmy",
        "outputId": "a9d112b4-5a79-46a0-99e9-dd5b56700538"
      },
      "outputs": [
        {
          "data": {
            "text/latex": [
              "$\\displaystyle 3 x = 6$"
            ],
            "text/plain": [
              "Eq(3*x, 6)"
            ]
          },
          "execution_count": 4,
          "metadata": {},
          "output_type": "execute_result"
        }
      ],
      "source": [
        "# Add the equations\n",
        "eq3 = eq1 + eq2\n",
        "eq3"
      ]
    },
    {
      "cell_type": "code",
      "execution_count": null,
      "metadata": {
        "id": "SZgHx10gQVmy",
        "outputId": "cb7058bb-d0e7-4a26-fa32-e718be6350bd"
      },
      "outputs": [
        {
          "data": {
            "text/latex": [
              "$\\displaystyle 2$"
            ],
            "text/plain": [
              "2"
            ]
          },
          "execution_count": 5,
          "metadata": {},
          "output_type": "execute_result"
        }
      ],
      "source": [
        "# We have an equation with one unknown, so we can solve it\n",
        "sol_x = eq3.solve_for(x)[0]\n",
        "sol_x"
      ]
    },
    {
      "cell_type": "code",
      "execution_count": null,
      "metadata": {
        "id": "DKEwz40tQVmy",
        "outputId": "5ba7677f-2f23-4724-b52f-8b6d9ac04089"
      },
      "outputs": [
        {
          "data": {
            "text/latex": [
              "$\\displaystyle 2 - y = 1$"
            ],
            "text/plain": [
              "Eq(2 - y, 1)"
            ]
          },
          "execution_count": 6,
          "metadata": {},
          "output_type": "execute_result"
        }
      ],
      "source": [
        "# Substitute the solution into equation 2\n",
        "eq2 = eq2.substitute(x, sol_x)\n",
        "eq2"
      ]
    },
    {
      "cell_type": "code",
      "execution_count": null,
      "metadata": {
        "id": "xTHGNoDLQVmy",
        "outputId": "fb2d69f2-786c-40fd-dbcc-171028975458"
      },
      "outputs": [
        {
          "data": {
            "text/latex": [
              "$\\displaystyle 1$"
            ],
            "text/plain": [
              "1"
            ]
          },
          "execution_count": 7,
          "metadata": {},
          "output_type": "execute_result"
        }
      ],
      "source": [
        "# We get an equation with one unknown, so we can solve it\n",
        "eq2.solve_for(y)[0]"
      ]
    },
    {
      "cell_type": "code",
      "execution_count": null,
      "metadata": {
        "id": "h9nvGV3lQVmz",
        "outputId": "433e8c2f-bdc3-4af8-cc10-2fa4ff33357f"
      },
      "outputs": [
        {
          "data": {
            "text/plain": [
              "{x: 2, y: 1}"
            ]
          },
          "execution_count": 8,
          "metadata": {},
          "output_type": "execute_result"
        }
      ],
      "source": [
        "# Thus x=2, y=1\n",
        "# Verify with sympy\n",
        "sp.solve([eq1, eq2])"
      ]
    },
    {
      "cell_type": "markdown",
      "metadata": {
        "id": "7m9-jKFpQVmz"
      },
      "source": [
        "---\n",
        "\n",
        "### Exercises for Students\n",
        "\n",
        "Solve the following systems of equations similarly to the example above:\n",
        "\n",
        "* $3x-2y=5, \\quad 2x+3y=7$,\n",
        "* $2x-3y=10, \\quad 4x+5y=20$,\n",
        "* $2x - y + z = 3, \\quad x + 2y - z = 1, \\quad 3x - y + 2z = 11$.\n",
        "* $2x-3y+4z+2t=2, \\quad 3x+2y-5z+3t=3, \\quad 4x-3y+2z-5t=4, \\quad 5x+4y-3z+2t=5$."
      ]
    },
    {
      "cell_type": "code",
      "source": [
        "x, y = symbols('x y')\n",
        "\n",
        "# Define equations\n",
        "eq1 = EnhancedEq(3*x - 2*y, 5)\n",
        "eq2 = EnhancedEq(x - y, 1)"
      ],
      "metadata": {
        "id": "v7cxgFh8QXR-"
      },
      "execution_count": 10,
      "outputs": []
    },
    {
      "cell_type": "code",
      "source": [
        "eq1"
      ],
      "metadata": {
        "colab": {
          "base_uri": "https://localhost:8080/",
          "height": 39
        },
        "id": "JI6U_9FWSipW",
        "outputId": "9bb833dd-ef74-4853-c787-41ef299e730f"
      },
      "execution_count": 92,
      "outputs": [
        {
          "output_type": "execute_result",
          "data": {
            "text/plain": [
              "Eq(2*x - y + z, 3)"
            ],
            "text/latex": "$\\displaystyle 2 x - y + z = 3$"
          },
          "metadata": {},
          "execution_count": 92
        }
      ]
    },
    {
      "cell_type": "code",
      "source": [
        "eq2"
      ],
      "metadata": {
        "colab": {
          "base_uri": "https://localhost:8080/",
          "height": 39
        },
        "id": "KvuWMEexSlNV",
        "outputId": "e91b6414-3106-4549-ed8e-a6ccf0716047"
      },
      "execution_count": 91,
      "outputs": [
        {
          "output_type": "execute_result",
          "data": {
            "text/plain": [
              "Eq(x - y, 1)"
            ],
            "text/latex": "$\\displaystyle x - y = 1$"
          },
          "metadata": {},
          "execution_count": 91
        }
      ]
    },
    {
      "cell_type": "code",
      "source": [
        "eq3 = eq1 + eq2\n",
        "eq3"
      ],
      "metadata": {
        "colab": {
          "base_uri": "https://localhost:8080/",
          "height": 39
        },
        "id": "whZZ-jn6SpNx",
        "outputId": "ad973c72-13ae-4089-f668-14c0b8049cf6"
      },
      "execution_count": 13,
      "outputs": [
        {
          "output_type": "execute_result",
          "data": {
            "text/plain": [
              "Eq(4*x - 3*y, 6)"
            ],
            "text/latex": "$\\displaystyle 4 x - 3 y = 6$"
          },
          "metadata": {},
          "execution_count": 13
        }
      ]
    },
    {
      "cell_type": "code",
      "source": [
        "sol_x = eq3.solve_for(x)[0]\n",
        "sol_x"
      ],
      "metadata": {
        "colab": {
          "base_uri": "https://localhost:8080/",
          "height": 51
        },
        "id": "LUz19tMxSrtC",
        "outputId": "42278e44-5ea0-49b6-b3a6-6954746780cf"
      },
      "execution_count": 14,
      "outputs": [
        {
          "output_type": "execute_result",
          "data": {
            "text/plain": [
              "3*y/4 + 3/2"
            ],
            "text/latex": "$\\displaystyle \\frac{3 y}{4} + \\frac{3}{2}$"
          },
          "metadata": {},
          "execution_count": 14
        }
      ]
    },
    {
      "cell_type": "code",
      "source": [
        "eq2.solve_for(y)[0]"
      ],
      "metadata": {
        "colab": {
          "base_uri": "https://localhost:8080/",
          "height": 39
        },
        "id": "ndKFP-YJS5Ra",
        "outputId": "538c8fff-72bc-474d-93cd-dcfa9a61fcc4"
      },
      "execution_count": 15,
      "outputs": [
        {
          "output_type": "execute_result",
          "data": {
            "text/plain": [
              "x - 1"
            ],
            "text/latex": "$\\displaystyle x - 1$"
          },
          "metadata": {},
          "execution_count": 15
        }
      ]
    },
    {
      "cell_type": "code",
      "source": [
        "sp.solve([eq1, eq2])"
      ],
      "metadata": {
        "colab": {
          "base_uri": "https://localhost:8080/"
        },
        "id": "Fr40qNiWTG9W",
        "outputId": "767715a0-1e54-43db-d246-1722fc821e38"
      },
      "execution_count": 16,
      "outputs": [
        {
          "output_type": "execute_result",
          "data": {
            "text/plain": [
              "{x: 3, y: 2}"
            ]
          },
          "metadata": {},
          "execution_count": 16
        }
      ]
    },
    {
      "cell_type": "code",
      "source": [
        "x, y = symbols('x y')\n",
        "\n",
        "# Define equations\n",
        "eq1 = EnhancedEq(2*x + 3*y, 7)\n",
        "eq2 = EnhancedEq(x - y, 1)"
      ],
      "metadata": {
        "id": "tLjMT7WeTL5C"
      },
      "execution_count": 25,
      "outputs": []
    },
    {
      "cell_type": "code",
      "source": [
        "eq1"
      ],
      "metadata": {
        "id": "CA2Ra5AvTTnc",
        "outputId": "84f71821-6d48-472d-d83c-45f1b97b0431",
        "colab": {
          "base_uri": "https://localhost:8080/",
          "height": 39
        }
      },
      "execution_count": 90,
      "outputs": [
        {
          "output_type": "execute_result",
          "data": {
            "text/plain": [
              "Eq(2*x - y + z, 3)"
            ],
            "text/latex": "$\\displaystyle 2 x - y + z = 3$"
          },
          "metadata": {},
          "execution_count": 90
        }
      ]
    },
    {
      "cell_type": "code",
      "source": [
        "eq2"
      ],
      "metadata": {
        "id": "QzlJdrgATXZe",
        "outputId": "2b88d4e8-f454-4ddc-bb89-e520041c9d57",
        "colab": {
          "base_uri": "https://localhost:8080/",
          "height": 39
        }
      },
      "execution_count": 89,
      "outputs": [
        {
          "output_type": "execute_result",
          "data": {
            "text/plain": [
              "Eq(x - y, 1)"
            ],
            "text/latex": "$\\displaystyle x - y = 1$"
          },
          "metadata": {},
          "execution_count": 89
        }
      ]
    },
    {
      "cell_type": "code",
      "source": [
        "eq3 = eq1 + eq2\n",
        "eq3"
      ],
      "metadata": {
        "id": "vDGXZMyETYfH",
        "outputId": "99d7a3dc-5e6c-43d9-9b03-8eb25bb5ba78",
        "colab": {
          "base_uri": "https://localhost:8080/",
          "height": 39
        }
      },
      "execution_count": 28,
      "outputs": [
        {
          "output_type": "execute_result",
          "data": {
            "text/plain": [
              "Eq(3*x + 2*y, 8)"
            ],
            "text/latex": "$\\displaystyle 3 x + 2 y = 8$"
          },
          "metadata": {},
          "execution_count": 28
        }
      ]
    },
    {
      "cell_type": "code",
      "source": [
        "sol_x = eq3.solve_for(x)[0]\n",
        "sol_x\n"
      ],
      "metadata": {
        "id": "NFLKKGu6Tbjs",
        "outputId": "a4e3bdcf-9583-464b-b764-3ab89bea3edd",
        "colab": {
          "base_uri": "https://localhost:8080/",
          "height": 51
        }
      },
      "execution_count": 29,
      "outputs": [
        {
          "output_type": "execute_result",
          "data": {
            "text/plain": [
              "8/3 - 2*y/3"
            ],
            "text/latex": "$\\displaystyle \\frac{8}{3} - \\frac{2 y}{3}$"
          },
          "metadata": {},
          "execution_count": 29
        }
      ]
    },
    {
      "cell_type": "code",
      "source": [
        "eq2 = eq2.substitute(x, sol_x)\n",
        "eq2"
      ],
      "metadata": {
        "id": "V9ur_sW1TckK",
        "outputId": "239a17c8-8727-4eeb-95d5-ba401aacc76b",
        "colab": {
          "base_uri": "https://localhost:8080/",
          "height": 51
        }
      },
      "execution_count": 30,
      "outputs": [
        {
          "output_type": "execute_result",
          "data": {
            "text/plain": [
              "Eq(8/3 - 5*y/3, 1)"
            ],
            "text/latex": "$\\displaystyle \\frac{8}{3} - \\frac{5 y}{3} = 1$"
          },
          "metadata": {},
          "execution_count": 30
        }
      ]
    },
    {
      "cell_type": "code",
      "source": [
        "eq2.solve_for(y)[0]"
      ],
      "metadata": {
        "id": "BmqGWX2QTfir",
        "outputId": "2a55e456-0e3e-4398-8cdd-d5e9477b9f22",
        "colab": {
          "base_uri": "https://localhost:8080/",
          "height": 37
        }
      },
      "execution_count": 31,
      "outputs": [
        {
          "output_type": "execute_result",
          "data": {
            "text/plain": [
              "1"
            ],
            "text/latex": "$\\displaystyle 1$"
          },
          "metadata": {},
          "execution_count": 31
        }
      ]
    },
    {
      "cell_type": "code",
      "source": [
        "sp.solve([eq1, eq2])"
      ],
      "metadata": {
        "id": "s3DP5GM9Th61",
        "outputId": "c3a00ec2-3880-4a10-fed3-73c19ef25935",
        "colab": {
          "base_uri": "https://localhost:8080/"
        }
      },
      "execution_count": 32,
      "outputs": [
        {
          "output_type": "execute_result",
          "data": {
            "text/plain": [
              "{x: 2, y: 1}"
            ]
          },
          "metadata": {},
          "execution_count": 32
        }
      ]
    },
    {
      "cell_type": "code",
      "source": [
        "x, y = symbols('x y')\n",
        "\n",
        "# Define equations\n",
        "eq1 = EnhancedEq(2*x - 3*y, 10)\n",
        "eq2 = EnhancedEq(x - y, 1)\n",
        "eq1\n",
        "eq3 = eq1 + eq2\n",
        "eq3\n",
        "sol_x = eq3.solve_for(x)[0]\n",
        "sol_x\n",
        "eq2 = eq2.substitute(x, sol_x)\n",
        "eq2\n",
        "eq2.solve_for(y)[0]\n",
        "sp.solve([eq1, eq2])"
      ],
      "metadata": {
        "id": "ay8LPApaTr1W",
        "outputId": "2cc2b3f6-cabd-4f2f-e54c-4d89530e4315",
        "colab": {
          "base_uri": "https://localhost:8080/"
        }
      },
      "execution_count": 110,
      "outputs": [
        {
          "output_type": "execute_result",
          "data": {
            "text/plain": [
              "{x: -7, y: -8}"
            ]
          },
          "metadata": {},
          "execution_count": 110
        }
      ]
    },
    {
      "cell_type": "code",
      "source": [
        "x, y = symbols('x y')\n",
        "\n",
        "# Define equations\n",
        "eq1 = EnhancedEq(4*x + 5*y, 20)\n",
        "eq2 = EnhancedEq(x - y, 1)\n",
        "eq1\n",
        "eq3 = eq1 + eq2\n",
        "eq3\n",
        "sol_x = eq3.solve_for(x)[0]\n",
        "sol_x\n",
        "eq2 = eq2.substitute(x, sol_x)\n",
        "eq2\n",
        "eq2.solve_for(y)[0]\n",
        "sp.solve([eq1, eq2])"
      ],
      "metadata": {
        "id": "UN4G5EAqUJ6S",
        "outputId": "14dfb197-3548-4dab-bdc8-3a8309343a0f",
        "colab": {
          "base_uri": "https://localhost:8080/"
        }
      },
      "execution_count": 108,
      "outputs": [
        {
          "output_type": "execute_result",
          "data": {
            "text/plain": [
              "{x: 25/9, y: 16/9}"
            ]
          },
          "metadata": {},
          "execution_count": 108
        }
      ]
    },
    {
      "cell_type": "code",
      "source": [
        "x, y, z = symbols('x y z')\n",
        "\n",
        "# Define equations\n",
        "eq1 = EnhancedEq(2*x - y + z, 3)\n",
        "eq2 = EnhancedEq(x - y, 1)\n",
        "eq1\n",
        "eq3 = eq1 + eq2\n",
        "eq3\n",
        "sol_x = eq3.solve_for(x)[0]\n",
        "sol_x\n",
        "eq2 = eq2.substitute(x, sol_x)\n",
        "eq2\n",
        "eq2.solve_for(y)[0]\n",
        "sp.solve([eq1, eq2])"
      ],
      "metadata": {
        "id": "rdOhfoHkUgaP",
        "outputId": "035ae499-aaac-4b4b-c906-e5bb279fa2f8",
        "colab": {
          "base_uri": "https://localhost:8080/"
        }
      },
      "execution_count": 107,
      "outputs": [
        {
          "output_type": "execute_result",
          "data": {
            "text/plain": [
              "{x: 2 - z, y: 1 - z}"
            ]
          },
          "metadata": {},
          "execution_count": 107
        }
      ]
    },
    {
      "cell_type": "code",
      "source": [
        "x, y, z = symbols('x y z')\n",
        "\n",
        "# Define equations\n",
        "eq1 = EnhancedEq(x + 2*y - z, 1)\n",
        "eq2 = EnhancedEq(x - y, 1)\n",
        "eq1\n",
        "eq3 = eq1 + eq2\n",
        "eq3\n",
        "sol_x = eq3.solve_for(x)[0]\n",
        "sol_x\n",
        "eq2 = eq2.substitute(x, sol_x)\n",
        "eq2\n",
        "eq2.solve_for(y)[0]\n",
        "sp.solve([eq1, eq2])"
      ],
      "metadata": {
        "id": "bunTUBZQWEtz",
        "outputId": "80cb9ca6-f9b4-48f0-99e8-90a1df5dd9b7",
        "colab": {
          "base_uri": "https://localhost:8080/"
        }
      },
      "execution_count": 106,
      "outputs": [
        {
          "output_type": "execute_result",
          "data": {
            "text/plain": [
              "{x: z/3 + 1, y: z/3}"
            ]
          },
          "metadata": {},
          "execution_count": 106
        }
      ]
    },
    {
      "cell_type": "code",
      "source": [
        "x, y, z = symbols('x y z')\n",
        "\n",
        "# Define equations\n",
        "eq1 = EnhancedEq(3*x - y + 2*z, 5)\n",
        "eq2 = EnhancedEq(x - y, 1)\n",
        "eq1\n",
        "eq3 = eq1 + eq2\n",
        "eq3\n",
        "sol_x = eq3.solve_for(x)[0]\n",
        "sol_x\n",
        "eq2 = eq2.substitute(x, sol_x)\n",
        "eq2\n",
        "eq2.solve_for(y)[0]\n",
        "sp.solve([eq1, eq2])"
      ],
      "metadata": {
        "id": "fU7G95B2Xi0N",
        "outputId": "fed4eb6d-9236-4066-95c0-438e05fc638c",
        "colab": {
          "base_uri": "https://localhost:8080/"
        }
      },
      "execution_count": 104,
      "outputs": [
        {
          "output_type": "execute_result",
          "data": {
            "text/plain": [
              "{x: 2 - z, y: 1 - z}"
            ]
          },
          "metadata": {},
          "execution_count": 104
        }
      ]
    }
  ],
  "metadata": {
    "kernelspec": {
      "display_name": "Python 3",
      "language": "python",
      "name": "python3"
    },
    "language_info": {
      "codemirror_mode": {
        "name": "ipython",
        "version": 3
      },
      "file_extension": ".py",
      "mimetype": "text/x-python",
      "name": "python",
      "nbconvert_exporter": "python",
      "pygments_lexer": "ipython3",
      "version": "3.11.9"
    },
    "colab": {
      "provenance": []
    }
  },
  "nbformat": 4,
  "nbformat_minor": 0
}